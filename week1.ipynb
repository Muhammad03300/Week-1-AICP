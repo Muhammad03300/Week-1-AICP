{
 "cells": [
  {
   "cell_type": "code",
   "execution_count": 2,
   "id": "55ea8fc3-f617-474b-a596-093e56953c29",
   "metadata": {},
   "outputs": [
    {
     "name": "stdout",
     "output_type": "stream",
     "text": [
      "[30 32 34 36 38 40 42 44 46 48 50 52 54 56 58 60 62 64 66 68 70]\n"
     ]
    }
   ],
   "source": [
    "# Name : Abubakar\n",
    "# Task: 1 (Week 1 AICP)\n",
    "import numpy as np\n",
    "\n",
    "# NumPy array of even integers from 30 to 70\n",
    "# np.arange(start, stop, step) generates an array of evenly spaced values within a given interval\n",
    "array = np.arange(30, 71, 2)\n",
    "\n",
    "# Printing the array\n",
    "print(array)"
   ]
  },
  {
   "cell_type": "code",
   "execution_count": 6,
   "id": "091fab92-71e5-48c8-9d53-920b95284e20",
   "metadata": {},
   "outputs": [
    {
     "name": "stdout",
     "output_type": "stream",
     "text": [
      "[-0.65797605  0.65445601  0.36877421  1.90066539  1.74911071  1.28409399\n",
      "  0.03996813 -1.0620545   0.78762508  1.68835149  0.18924977  0.47183194\n",
      " -1.21638566  1.48788422 -0.53572434]\n"
     ]
    }
   ],
   "source": [
    "# Name : Abubakar\n",
    "# Task : 2(Week 1 AICP)\n",
    "import numpy as np\n",
    "\n",
    "# Generating an array of 15 random numbers from a standard normal distribution\n",
    "random_array = np.random.randn(15)\n",
    "\n",
    "# Printing the array\n",
    "print(random_array)"
   ]
  },
  {
   "cell_type": "code",
   "execution_count": 8,
   "id": "4fa558c2-d77f-4b58-a347-cfb910a5e7ff",
   "metadata": {},
   "outputs": [
    {
     "name": "stdout",
     "output_type": "stream",
     "text": [
      "[[  6 -18   0]\n",
      " [ -4 -19  13]]\n"
     ]
    }
   ],
   "source": [
    "# Name : Abubakar \n",
    "# Task : 3(Week 1 AICP)\n",
    "import numpy as np\n",
    "\n",
    "#Initiallizing Matrices\n",
    "matrix_a = np.array([[3, 1, 2], [5, 1, 3]])\n",
    "matrix_b = np.array([[6, 2, 10], [7, 4, 8]])\n",
    "\n",
    "# np.cross(first matrix, Second Matric) function for cross-product of matrices\n",
    "cross_product = np.cross(matrix_a, matrix_b)\n",
    "print(cross_product)"
   ]
  },
  {
   "cell_type": "code",
   "execution_count": 11,
   "id": "759ae249-a757-4709-b9ec-31f7ee89acd6",
   "metadata": {},
   "outputs": [
    {
     "name": "stdout",
     "output_type": "stream",
     "text": [
      "Determinant of the matrix is: 11.999999999999995\n"
     ]
    }
   ],
   "source": [
    "# Name : Abubakar\n",
    "# Task : 4(Week 1 AICP)\n",
    "import numpy as np\n",
    "\n",
    "# Defining a square matrix\n",
    "matrix = np.array([[3, 5, 2],\n",
    "                   [2, 4, 3],\n",
    "                   [5, 7, 6]])\n",
    "\n",
    "# Calculating the determinant using inalg.det(matrix) function\n",
    "determinant = np.linalg.det(matrix)\n",
    "\n",
    "# Printing the determinant\n",
    "print(\"Determinant of the matrix is:\", determinant)"
   ]
  },
  {
   "cell_type": "code",
   "execution_count": 14,
   "id": "935b456e-3a08-47ec-81e9-0804396e587e",
   "metadata": {},
   "outputs": [
    {
     "name": "stdout",
     "output_type": "stream",
     "text": [
      "3x3x3 array with random values:\n",
      "[[[3.62062802 5.52507931 1.08733516]\n",
      "  [8.56246676 4.6708688  0.24619908]\n",
      "  [0.39313616 9.2215649  1.47315501]]\n",
      "\n",
      " [[7.08617827 9.20258565 2.91064172]\n",
      "  [7.51963856 1.36843979 0.1534583 ]\n",
      "  [7.90480329 0.0522571  2.75947922]]\n",
      "\n",
      " [[1.23529555 4.95452988 1.53085441]\n",
      "  [5.84247643 4.48405127 6.20714498]\n",
      "  [5.90854022 6.92184095 1.76379974]]]\n"
     ]
    }
   ],
   "source": [
    "# Name : Abubakar\n",
    "# Task : 5(Week 1 AICP)\n",
    "import numpy as np\n",
    "\n",
    "# Generating the 3x3x3 array with random values between 0 and 10\n",
    "array = np.random.rand(3, 3, 3)*10\n",
    "\n",
    "# Printing the array\n",
    "print(\"3x3x3 array with random values:\")\n",
    "print(array)"
   ]
  },
  {
   "cell_type": "code",
   "execution_count": 15,
   "id": "d0636717-93be-4bad-9fad-c2dc76d5d44f",
   "metadata": {},
   "outputs": [
    {
     "name": "stdout",
     "output_type": "stream",
     "text": [
      "5x5 array with random values:\n",
      "[[72 26 88 20 15]\n",
      " [55 59 50 57 30]\n",
      " [86 97 23 76 94]\n",
      " [39 75 60 58 65]\n",
      " [33 81 62 60 63]]\n",
      "Minimum value: 15\n",
      "Maximum value: 97\n"
     ]
    }
   ],
   "source": [
    "# Name : Abubakar \n",
    "# Task : 6(Week 1 AIPCP)\n",
    "import numpy as np\n",
    "\n",
    "# Creating a 5x5 array with random values between 0 and 100\n",
    "array = np.random.randint(0, 101, size=(5, 5))\n",
    "\n",
    "# Finding the minimum and maximum values\n",
    "min_value = np.min(array)\n",
    "max_value = np.max(array)\n",
    "\n",
    "# Printing the results\n",
    "print(\"5x5 array with random values:\")\n",
    "print(array)\n",
    "print(f\"Minimum value: {min_value}\")\n",
    "print(f\"Maximum value: {max_value}\")\n"
   ]
  },
  {
   "cell_type": "code",
   "execution_count": 17,
   "id": "e95c4d0c-b032-4249-a7bb-2caec8e2e024",
   "metadata": {},
   "outputs": [
    {
     "name": "stdout",
     "output_type": "stream",
     "text": [
      "Mean: [ 0.32847104 -0.10264509 -0.19476414  0.2294131  -0.13905973]\n",
      "Standard deviation: [1.12040465 1.40300094 1.19670887 1.0011686  0.54463767]\n",
      "Variance: [1.25530658 1.96841163 1.43211212 1.00233856 0.29663019]\n"
     ]
    }
   ],
   "source": [
    "# Name : Abubakar\n",
    "# Task : 7(Week 1 AICP)\n",
    "import numpy as np\n",
    "\n",
    "# Create a sample array\n",
    "array = np.random.randn(5, 10)  # 5 rows, 10 columns\n",
    "\n",
    "# Calculate statistics along the second axis (columns)\n",
    "mean = np.mean(array, axis=1)\n",
    "std_deviation = np.std(array, axis=1)\n",
    "variance = np.var(array, axis=1)\n",
    "\n",
    "# Print the results\n",
    "print(\"Mean:\", mean)\n",
    "print(\"Standard deviation:\", std_deviation)\n",
    "print(\"Variance:\", variance)\n"
   ]
  }
 ],
 "metadata": {
  "kernelspec": {
   "display_name": "Python 3 (ipykernel)",
   "language": "python",
   "name": "python3"
  },
  "language_info": {
   "codemirror_mode": {
    "name": "ipython",
    "version": 3
   },
   "file_extension": ".py",
   "mimetype": "text/x-python",
   "name": "python",
   "nbconvert_exporter": "python",
   "pygments_lexer": "ipython3",
   "version": "3.11.5"
  }
 },
 "nbformat": 4,
 "nbformat_minor": 5
}
